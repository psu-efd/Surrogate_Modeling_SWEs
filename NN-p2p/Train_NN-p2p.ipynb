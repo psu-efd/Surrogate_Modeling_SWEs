{
 "cells": [
  {
   "cell_type": "code",
   "execution_count": 1,
   "id": "a7e6644c",
   "metadata": {},
   "outputs": [],
   "source": [
    "# Importing Necessary Libaries \n",
    "import numpy as np\n",
    "import tensorflow as tf\n",
    "from tensorflow.keras import callbacks\n",
    "from tensorflow.keras import layers\n",
    "import tensorflow.keras.backend as K\n",
    "import math\n",
    "import matplotlib.pyplot as plt\n",
    "import time\n",
    "import pandas as pd\n",
    "import scipy.interpolate\n",
    "from matplotlib import cm\n",
    "from mpl_toolkits.axes_grid1 import make_axes_locatable"
   ]
  },
  {
   "cell_type": "markdown",
   "id": "398a96c3",
   "metadata": {},
   "source": [
    "## Model training"
   ]
  },
  {
   "cell_type": "code",
   "execution_count": 2,
   "id": "f82522cb",
   "metadata": {},
   "outputs": [
    {
     "name": "stderr",
     "output_type": "stream",
     "text": [
      "2021-12-03 20:22:39.597385: I tensorflow/core/platform/cpu_feature_guard.cc:142] This TensorFlow binary is optimized with oneAPI Deep Neural Network Library (oneDNN) to use the following CPU instructions in performance-critical operations:  AVX2 FMA\n",
      "To enable them in other operations, rebuild TensorFlow with the appropriate compiler flags.\n",
      "2021-12-03 20:22:42.444890: I tensorflow/stream_executor/cuda/cuda_gpu_executor.cc:937] successful NUMA node read from SysFS had negative value (-1), but there must be at least one NUMA node, so returning NUMA node zero\n",
      "2021-12-03 20:22:42.529180: I tensorflow/stream_executor/cuda/cuda_gpu_executor.cc:937] successful NUMA node read from SysFS had negative value (-1), but there must be at least one NUMA node, so returning NUMA node zero\n",
      "2021-12-03 20:22:42.529993: I tensorflow/stream_executor/cuda/cuda_gpu_executor.cc:937] successful NUMA node read from SysFS had negative value (-1), but there must be at least one NUMA node, so returning NUMA node zero\n",
      "2021-12-03 20:22:43.942007: I tensorflow/stream_executor/cuda/cuda_gpu_executor.cc:937] successful NUMA node read from SysFS had negative value (-1), but there must be at least one NUMA node, so returning NUMA node zero\n",
      "2021-12-03 20:22:43.942826: I tensorflow/stream_executor/cuda/cuda_gpu_executor.cc:937] successful NUMA node read from SysFS had negative value (-1), but there must be at least one NUMA node, so returning NUMA node zero\n",
      "2021-12-03 20:22:43.943590: I tensorflow/stream_executor/cuda/cuda_gpu_executor.cc:937] successful NUMA node read from SysFS had negative value (-1), but there must be at least one NUMA node, so returning NUMA node zero\n",
      "2021-12-03 20:22:43.944320: I tensorflow/core/common_runtime/gpu/gpu_device.cc:1510] Created device /device:GPU:0 with 10801 MB memory:  -> device: 0, name: Tesla K80, pci bus id: 0000:00:1e.0, compute capability: 3.7\n"
     ]
    },
    {
     "data": {
      "text/plain": [
       "'/device:GPU:0'"
      ]
     },
     "execution_count": 2,
     "metadata": {},
     "output_type": "execute_result"
    }
   ],
   "source": [
    "tf.test.gpu_device_name()"
   ]
  },
  {
   "cell_type": "markdown",
   "id": "cb09e0c1",
   "metadata": {},
   "source": [
    "# Unzip the data in CNN_data.zip before you run the following code"
   ]
  },
  {
   "cell_type": "code",
   "execution_count": 42,
   "id": "937b8e3a",
   "metadata": {},
   "outputs": [
    {
     "name": "stdout",
     "output_type": "stream",
     "text": [
      "(1169387, 23)\n",
      "(3516766, 23)\n"
     ]
    }
   ],
   "source": [
    "val_data=np.loadtxt(\"NN-p2p_data/val_data.csv\",delimiter=\",\")\n",
    "print(val_data.shape)\n",
    "train_data=np.loadtxt(\"NN-p2p_data/train_data.csv\",delimiter=\",\")\n",
    "print(train_data.shape)\n",
    "val_X=val_data[:,0:20]\n",
    "val_y=val_data[:,20:]\n",
    "train_X=train_data[:,0:20]\n",
    "train_y=train_data[:,20:]"
   ]
  },
  {
   "cell_type": "code",
   "execution_count": 5,
   "id": "3b29d982",
   "metadata": {},
   "outputs": [],
   "source": [
    "def fully_connected(input):\n",
    "\n",
    "    lamda = 0    ###Regularization\n",
    "    # define the hidden layer\n",
    "    x = layers.Flatten()(input)\n",
    "   \n",
    "    x = layers.Dense(1000,bias_regularizer=tf.keras.regularizers.l2(lamda),kernel_regularizer=tf.keras.regularizers.l2(lamda), activation='relu')(x)\n",
    " \n",
    "    x = layers.Dense(1000,bias_regularizer=tf.keras.regularizers.l2(lamda),kernel_regularizer=tf.keras.regularizers.l2(lamda), activation='relu')(x)\n",
    "\n",
    "    x = layers.Dense(1000,bias_regularizer=tf.keras.regularizers.l2(lamda),kernel_regularizer=tf.keras.regularizers.l2(lamda), activation='relu')(x)\n",
    "\n",
    "    x = layers.Dense(1000,bias_regularizer=tf.keras.regularizers.l2(lamda),kernel_regularizer=tf.keras.regularizers.l2(lamda), activation='relu')(x)\n",
    "\n",
    "    x = layers.Dense(1000,bias_regularizer=tf.keras.regularizers.l2(lamda),kernel_regularizer=tf.keras.regularizers.l2(lamda), activation='relu')(x)\n",
    "\n",
    "    x = layers.Dense(1000,bias_regularizer=tf.keras.regularizers.l2(lamda),kernel_regularizer=tf.keras.regularizers.l2(lamda), activation='relu')(x)\n",
    "\n",
    "    x = layers.Dense(1000,bias_regularizer=tf.keras.regularizers.l2(lamda),kernel_regularizer=tf.keras.regularizers.l2(lamda), activation='relu')(x)\n",
    "\n",
    "    x = layers.Dense(1000,bias_regularizer=tf.keras.regularizers.l2(lamda),kernel_regularizer=tf.keras.regularizers.l2(lamda), activation='relu')(x)\n",
    "\n",
    "    x = layers.Dense(1000,bias_regularizer=tf.keras.regularizers.l2(lamda),kernel_regularizer=tf.keras.regularizers.l2(lamda), activation='relu')(x)\n",
    "\n",
    "    x = layers.Dense(1000,bias_regularizer=tf.keras.regularizers.l2(lamda),kernel_regularizer=tf.keras.regularizers.l2(lamda), activation='relu')(x)\n",
    "\n",
    "    \n",
    "\n",
    "    output = layers.Dense(3, activation='linear')(x)\n",
    "\n",
    "    \n",
    "    return output\n",
    "\n",
    "\n"
   ]
  },
  {
   "cell_type": "code",
   "execution_count": 6,
   "id": "cf335d2e",
   "metadata": {},
   "outputs": [
    {
     "name": "stdout",
     "output_type": "stream",
     "text": [
      "Model: \"model\"\n",
      "_________________________________________________________________\n",
      "Layer (type)                 Output Shape              Param #   \n",
      "=================================================================\n",
      "input_1 (InputLayer)         [(None, 20)]              0         \n",
      "_________________________________________________________________\n",
      "flatten (Flatten)            (None, 20)                0         \n",
      "_________________________________________________________________\n",
      "dense (Dense)                (None, 1000)              21000     \n",
      "_________________________________________________________________\n",
      "dense_1 (Dense)              (None, 1000)              1001000   \n",
      "_________________________________________________________________\n",
      "dense_2 (Dense)              (None, 1000)              1001000   \n",
      "_________________________________________________________________\n",
      "dense_3 (Dense)              (None, 1000)              1001000   \n",
      "_________________________________________________________________\n",
      "dense_4 (Dense)              (None, 1000)              1001000   \n",
      "_________________________________________________________________\n",
      "dense_5 (Dense)              (None, 1000)              1001000   \n",
      "_________________________________________________________________\n",
      "dense_6 (Dense)              (None, 1000)              1001000   \n",
      "_________________________________________________________________\n",
      "dense_7 (Dense)              (None, 1000)              1001000   \n",
      "_________________________________________________________________\n",
      "dense_8 (Dense)              (None, 1000)              1001000   \n",
      "_________________________________________________________________\n",
      "dense_9 (Dense)              (None, 1000)              1001000   \n",
      "_________________________________________________________________\n",
      "dense_10 (Dense)             (None, 3)                 3003      \n",
      "=================================================================\n",
      "Total params: 9,033,003\n",
      "Trainable params: 9,033,003\n",
      "Non-trainable params: 0\n",
      "_________________________________________________________________\n"
     ]
    },
    {
     "name": "stderr",
     "output_type": "stream",
     "text": [
      "2021-12-03 20:26:17.630781: I tensorflow/stream_executor/cuda/cuda_gpu_executor.cc:937] successful NUMA node read from SysFS had negative value (-1), but there must be at least one NUMA node, so returning NUMA node zero\n",
      "2021-12-03 20:26:17.631640: I tensorflow/stream_executor/cuda/cuda_gpu_executor.cc:937] successful NUMA node read from SysFS had negative value (-1), but there must be at least one NUMA node, so returning NUMA node zero\n",
      "2021-12-03 20:26:17.632393: I tensorflow/stream_executor/cuda/cuda_gpu_executor.cc:937] successful NUMA node read from SysFS had negative value (-1), but there must be at least one NUMA node, so returning NUMA node zero\n",
      "2021-12-03 20:26:17.633396: I tensorflow/stream_executor/cuda/cuda_gpu_executor.cc:937] successful NUMA node read from SysFS had negative value (-1), but there must be at least one NUMA node, so returning NUMA node zero\n",
      "2021-12-03 20:26:17.634165: I tensorflow/stream_executor/cuda/cuda_gpu_executor.cc:937] successful NUMA node read from SysFS had negative value (-1), but there must be at least one NUMA node, so returning NUMA node zero\n",
      "2021-12-03 20:26:17.634902: I tensorflow/stream_executor/cuda/cuda_gpu_executor.cc:937] successful NUMA node read from SysFS had negative value (-1), but there must be at least one NUMA node, so returning NUMA node zero\n",
      "2021-12-03 20:26:17.635707: I tensorflow/stream_executor/cuda/cuda_gpu_executor.cc:937] successful NUMA node read from SysFS had negative value (-1), but there must be at least one NUMA node, so returning NUMA node zero\n",
      "2021-12-03 20:26:17.636455: I tensorflow/stream_executor/cuda/cuda_gpu_executor.cc:937] successful NUMA node read from SysFS had negative value (-1), but there must be at least one NUMA node, so returning NUMA node zero\n",
      "2021-12-03 20:26:17.637178: I tensorflow/core/common_runtime/gpu/gpu_device.cc:1510] Created device /job:localhost/replica:0/task:0/device:GPU:0 with 10801 MB memory:  -> device: 0, name: Tesla K80, pci bus id: 0000:00:1e.0, compute capability: 3.7\n"
     ]
    }
   ],
   "source": [
    "\n",
    "# Define Inputs and Outputs\n",
    "inputs_x = layers.Input(shape=(20,))\n",
    "\n",
    "output = fully_connected(inputs_x)\n",
    "# Use Keras Functional API to Create our Model and Define our Optimizer and Loss Function\n",
    "fc_model = tf.keras.Model(inputs =inputs_x, outputs=output)\n",
    "fc_model.compile(tf.keras.optimizers.Adam(0.0001), loss=tf.keras.losses.MeanSquaredError(),run_eagerly=True)\n",
    "\n",
    "fc_model.summary()"
   ]
  },
  {
   "cell_type": "code",
   "execution_count": 7,
   "id": "f8bcb018",
   "metadata": {},
   "outputs": [],
   "source": [
    "reduce_lr =tf.keras.callbacks.ReduceLROnPlateau(monitor='val_loss', factor=0.5,\n",
    "                              patience=3, min_lr=0.00001)\n"
   ]
  },
  {
   "cell_type": "code",
   "execution_count": 8,
   "id": "eb9abea1",
   "metadata": {},
   "outputs": [],
   "source": [
    "import os\n",
    "checkpoint_filepath = 'nn-p2p-checkpoints'\n",
    "model_checkpoint_callback = tf.keras.callbacks.ModelCheckpoint(\n",
    "    filepath=os.path.join(checkpoint_filepath,\n",
    "                                      '%s-{epoch:02d}.hdf5' % \"points_interp\"),\n",
    "    save_best_only=True,\n",
    "    save_weights_only=False,\n",
    "    monitor='val_loss',\n",
    "    save_freq=\"epoch\",\n",
    "    mode='min',\n",
    "    verbose=1,\n",
    ")"
   ]
  },
  {
   "cell_type": "code",
   "execution_count": 11,
   "id": "6a409ddb",
   "metadata": {},
   "outputs": [
    {
     "name": "stdout",
     "output_type": "stream",
     "text": [
      "1718/1718 [==============================] - 161s 94ms/step - loss: 0.0632 - val_loss: 0.0375\n",
      "\n",
      "Epoch 00001: val_loss improved from inf to 0.03749, saving model to nn-p2p-checkpoints/points_interp-01.hdf5\n"
     ]
    }
   ],
   "source": [
    "history = fc_model.fit(train_X,train_y,batch_size=2048, validation_data=(val_X, val_y), epochs=200,shuffle = True,callbacks=[reduce_lr,model_checkpoint_callback],use_multiprocessing=True,workers=4)\n",
    "\n"
   ]
  },
  {
   "cell_type": "markdown",
   "id": "d8fee32d",
   "metadata": {},
   "source": [
    "## Model prediction "
   ]
  },
  {
   "cell_type": "code",
   "execution_count": 43,
   "id": "abc8ff4f",
   "metadata": {},
   "outputs": [
    {
     "name": "stdout",
     "output_type": "stream",
     "text": [
      "Model: \"model_1\"\n",
      "_________________________________________________________________\n",
      "Layer (type)                 Output Shape              Param #   \n",
      "=================================================================\n",
      "input_2 (InputLayer)         [(None, 20)]              0         \n",
      "_________________________________________________________________\n",
      "flatten_1 (Flatten)          (None, 20)                0         \n",
      "_________________________________________________________________\n",
      "dense_11 (Dense)             (None, 1000)              21000     \n",
      "_________________________________________________________________\n",
      "dense_12 (Dense)             (None, 1000)              1001000   \n",
      "_________________________________________________________________\n",
      "dense_13 (Dense)             (None, 1000)              1001000   \n",
      "_________________________________________________________________\n",
      "dense_14 (Dense)             (None, 1000)              1001000   \n",
      "_________________________________________________________________\n",
      "dense_15 (Dense)             (None, 1000)              1001000   \n",
      "_________________________________________________________________\n",
      "dense_16 (Dense)             (None, 1000)              1001000   \n",
      "_________________________________________________________________\n",
      "dense_17 (Dense)             (None, 1000)              1001000   \n",
      "_________________________________________________________________\n",
      "dense_18 (Dense)             (None, 1000)              1001000   \n",
      "_________________________________________________________________\n",
      "dense_19 (Dense)             (None, 1000)              1001000   \n",
      "_________________________________________________________________\n",
      "dense_20 (Dense)             (None, 1000)              1001000   \n",
      "_________________________________________________________________\n",
      "dense_21 (Dense)             (None, 3)                 3003      \n",
      "=================================================================\n",
      "Total params: 9,033,003\n",
      "Trainable params: 9,033,003\n",
      "Non-trainable params: 0\n",
      "_________________________________________________________________\n"
     ]
    }
   ],
   "source": [
    "model_file = \"Trained_model/trained_nn_p2p.hdf5\"\n",
    "fc_model = tf.keras.models.load_model(model_file)\n",
    "fc_model.summary()"
   ]
  },
  {
   "cell_type": "code",
   "execution_count": 40,
   "id": "cc94774e",
   "metadata": {},
   "outputs": [
    {
     "data": {
      "text/plain": [
       "<matplotlib.lines.Line2D at 0x14a12db2d90>"
      ]
     },
     "execution_count": 40,
     "metadata": {},
     "output_type": "execute_result"
    },
    {
     "data": {
      "image/png": "[encoded data removed]",
      "text/plain": [
       "<Figure size 800x480 with 2 Axes>"
      ]
     },
     "metadata": {},
     "output_type": "display_data"
    }
   ],
   "source": [
    "\n",
    "plt.style.use(\"classic\")\n",
    "#matplotlib.font_manager._rebuild()\n",
    "plt.rcParams['font.size'] = 20\n",
    "plt.rcParams['font.family'] = 'Times New Roman'\n",
    "axis_font = {'fontname':'Times New Roman', 'size':'14'}\n",
    "\n",
    "\n",
    "\n",
    "test_data=np.loadtxt(\"triangular_pier_prediction_data/test_whole_domain.csv\",delimiter=\",\")\n",
    "test_X=test_data[:,0:20]\n",
    "test_y=test_data[:,20:]\n",
    "\n",
    "\n",
    "#### Boundary coordinates for visualization\n",
    "\n",
    "boundary= np.genfromtxt(\"triangular_pier_prediction_data/boundary_data.csv\",  delimiter=',', skip_header = 1)\n",
    "boundary_new = np.append(boundary,boundary[0,:])\n",
    "boundary_new=boundary_new.reshape(len(boundary)+1,2)\n",
    "boundary_plot_line=np.ones(boundary_new[:,1].shape)*3\n",
    "\n",
    "\n",
    "###x_ y_ are the point cooridinates. \n",
    "###They are normalized as the input data of the training. Here de-normalized them to the original value for plot.\n",
    "x_=test_X[:,0]*7+3\n",
    "y_=test_X[:,1]*6\n",
    "\n",
    "u_=test_y[:,0]\n",
    "\n",
    "v_=test_y[:,1]\n",
    "\n",
    "h_=test_y[:,2]\n",
    "\n",
    "\n",
    "vxy_hat_arrays = fc_model.predict_on_batch(test_X)\n",
    "\n",
    "### The outputs was normalized in the training. Here de-normalized the prediction.\n",
    "vxy_hat_arrays[:,0]=vxy_hat_arrays[:,0]*0.26+0.94\n",
    "vxy_hat_arrays[:,1]=vxy_hat_arrays[:,1]*0.14\n",
    "vxy_hat_arrays[:,2]=vxy_hat_arrays[:,2]*0.027+2\n",
    "\n",
    "u_field = np.zeros(len(x_))\n",
    "v_field = np.zeros(len(x_))\n",
    "h_field = np.zeros(len(x_))\n",
    "\n",
    "u_field=vxy_hat_arrays[:,0]   \n",
    "v_field=vxy_hat_arrays[:,1]\n",
    "h_field=vxy_hat_arrays[:,2]\n",
    "\n",
    "vxy=np.zeros(vxy_hat_arrays.shape)\n",
    "vxy[:,0]=u_\n",
    "vxy[:,1]=v_\n",
    "vxy[:,2]=h_\n",
    "\n",
    "\n",
    "\n",
    "\n",
    "\n",
    "\n",
    "fig = plt.figure(figsize = (10,6))    \n",
    "\n",
    "xi_num = np.linspace(0, 15, 101)\n",
    "yi_num = np.linspace(0, 6, 51)\n",
    "\n",
    "\n",
    "\n",
    "\n",
    "ui_pre = scipy.interpolate.griddata((x_, y_), u_field, (xi_num[None,:], yi_num[:,None]), method='linear')\n",
    "ui_num = scipy.interpolate.griddata((x_, y_), u_, (xi_num[None,:], yi_num[:,None]), method='linear')\n",
    "\n",
    "cf=plt.contourf(xi_num,yi_num,ui_pre,100, cmap=cm.jet,levels=np.arange(-0.5,1.51,0.01))\n",
    "plt.plot(boundary_new[:,0],boundary_new[:,1],'-k',mfc = 'white')\n",
    "\n",
    "\n",
    "plt.xlabel(r\"$x$ (m)\")\n",
    "plt.ylabel(r\"$y$ (m)\")\n",
    "plt.gca().set_aspect('equal', adjustable='box')\n",
    "plt.text(15,6.4, r'$u$ (m/s)', fontsize=20,color='k',zorder=2)\n",
    "\n",
    "ax = plt.gca()\n",
    "ax.fill_between(boundary_new[:,0],boundary_new[:,1],boundary_plot_line,edgecolor='white',facecolor='white')\n",
    "\n",
    "divider = make_axes_locatable(ax)\n",
    "cax = divider.append_axes(\"right\", size=\"5%\", pad=0.1)   \n",
    "cbar=fig.colorbar(cf,cax=cax,ticks=np.arange(-0.5,1.51,0.5))\n",
    "ax.set_xticks(np.arange(0, 15.01, step=3))\n",
    "ax.set_yticks(np.arange(0, 6.01, step=2))\n",
    "ax.axvline(x=3,c=\"k\",lw=2,ls='--')\n",
    "ax.axvline(x=10,c=\"k\",lw=2,ls='--')\n",
    "\n",
    "\n"
   ]
  },
  {
   "cell_type": "code",
   "execution_count": null,
   "id": "02c1d947",
   "metadata": {},
   "outputs": [],
   "source": []
  },
  {
   "cell_type": "code",
   "execution_count": null,
   "id": "20f568fa",
   "metadata": {},
   "outputs": [],
   "source": []
  }
 ],
 "metadata": {
  "kernelspec": {
   "display_name": "Python 3 (ipykernel)",
   "language": "python",
   "name": "python3"
  },
  "language_info": {
   "codemirror_mode": {
    "name": "ipython",
    "version": 3
   },
   "file_extension": ".py",
   "mimetype": "text/x-python",
   "name": "python",
   "nbconvert_exporter": "python",
   "pygments_lexer": "ipython3",
   "version": "3.8.11"
  }
 },
 "nbformat": 4,
 "nbformat_minor": 5
}
